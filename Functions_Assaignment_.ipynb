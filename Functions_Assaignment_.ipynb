{
  "nbformat": 4,
  "nbformat_minor": 0,
  "metadata": {
    "colab": {
      "provenance": []
    },
    "kernelspec": {
      "name": "python3",
      "display_name": "Python 3"
    },
    "language_info": {
      "name": "python"
    }
  },
  "cells": [
    {
      "cell_type": "markdown",
      "source": [
        "# Functions"
      ],
      "metadata": {
        "id": "Z5ULyww1Rch8"
      }
    },
    {
      "cell_type": "markdown",
      "source": [
        "# Theory Questions:\n",
        "\n",
        "1. A function is a block of code that performs a task, while a method is a function that belongs to an object.  \n",
        "   **Example:** `len(\"hello\")` (function), `\"hello\".upper()` (method).\n",
        "\n",
        "\n",
        "2. Parameters are placeholders in a function definition, while arguments are actual values passed to a function.  \n",
        "   **Example:** `def add(a, b): return a + b`; `add(3, 5)` (3 and 5 are arguments).  \n",
        "\n",
        "\n",
        "\n",
        "3. Functions can be defined using `def` and called using their name with arguments.  \n",
        "   **Example:** `def greet(): print(\"Hello\")`; `greet()`.  \n",
        "\n",
        "\n",
        "\n",
        "4. The `return` statement sends back a value from a function and stops execution.  \n",
        "   **Example:** `def square(x): return x * x`; `print(square(4))` (output: 16).  \n",
        "\n",
        "\n",
        "\n",
        "5. An iterable is an object that can be looped over, while an iterator produces values one at a time using `next()`.  \n",
        "   **Example:** `my_list = [1, 2, 3]` (iterable), `iter(my_list)` (iterator).  \n",
        "\n",
        "\n",
        "\n",
        "6. Generators are functions that yield values one at a time using `yield`.  \n",
        "   **Example:** `def gen(): yield 1; yield 2; yield 3`; `g = gen(); print(next(g))`.  \n",
        "\n",
        "\n",
        "\n",
        "7. Generators save memory as they generate values on demand instead of storing them in memory.  \n",
        "   **Example:** `(x*x for x in range(5))` (generator) vs `[x*x for x in range(5)]` (list).  \n",
        "\n",
        "\n",
        "\n",
        "8. A lambda function is an anonymous function defined using `lambda`, used for short operations.  \n",
        "   **Example:** `square = lambda x: x*x`; `print(square(5))` (output: 25).  \n",
        "\n",
        "\n",
        "\n",
        "9. The `map()` function applies a function to all elements of an iterable.  \n",
        "   **Example:** `list(map(lambda x: x*2, [1, 2, 3]))` (output: `[2, 4, 6]`).  \n",
        "\n",
        "\n",
        "\n",
        "10. `map()` applies a function to all elements, `filter()` selects elements based on a condition, `reduce()` applies a function cumulatively.  \n",
        "    **Example:** `map(lambda x: x*2, [1, 2, 3])`, `filter(lambda x: x%2==0, [1, 2, 3])`, `reduce(lambda x, y: x+y, [1, 2, 3])`.  \n",
        "\n",
        "\n"
      ],
      "metadata": {
        "id": "ROFAtpLLRicN"
      }
    },
    {
      "cell_type": "markdown",
      "source": [
        "# Practical Questions:"
      ],
      "metadata": {
        "id": "0fYAatGLS9fB"
      }
    },
    {
      "cell_type": "code",
      "execution_count": 1,
      "metadata": {
        "colab": {
          "base_uri": "https://localhost:8080/"
        },
        "id": "KVVp5M-eRUvO",
        "outputId": "b7368abc-b843-4129-ed14-d22d2e7fb899"
      },
      "outputs": [
        {
          "output_type": "stream",
          "name": "stdout",
          "text": [
            "12\n",
            "olleh\n",
            "[1, 4, 9, 16]\n",
            "[2, 3, 5, 7, 11, 13, 17, 19, 23, 29, 31, 37, 41, 43, 47, 53, 59, 61, 67, 71, 73, 79, 83, 89, 97, 101, 103, 107, 109, 113, 127, 131, 137, 139, 149, 151, 157, 163, 167, 173, 179, 181, 191, 193, 197, 199]\n",
            "[1, 2, 4, 8, 16, 32]\n",
            "[(4, 1), (2, 2), (1, 3)]\n",
            "[32.0, 68.0, 86.0, 104.0]\n",
            "hll wrld\n"
          ]
        }
      ],
      "source": [
        "# 1. Sum of even numbers in a list\n",
        "def sum_even_numbers(numbers):\n",
        "    return sum(num for num in numbers if num % 2 == 0)\n",
        "\n",
        "print(sum_even_numbers([1, 2, 3, 4, 5, 6]))\n",
        "\n",
        "# 2. Reverse a string\n",
        "def reverse_string(s):\n",
        "    return s[::-1]\n",
        "\n",
        "print(reverse_string(\"hello\"))\n",
        "\n",
        "# 3. Square of each number in a list\n",
        "def square_numbers(lst):\n",
        "    return [num ** 2 for num in lst]\n",
        "\n",
        "print(square_numbers([1, 2, 3, 4]))\n",
        "\n",
        "# 4. Check if a number is prime\n",
        "def is_prime(n):\n",
        "    if n < 2:\n",
        "        return False\n",
        "    for i in range(2, int(n ** 0.5) + 1):\n",
        "        if n % i == 0:\n",
        "            return False\n",
        "    return True\n",
        "\n",
        "print([n for n in range(1, 201) if is_prime(n)])\n",
        "\n",
        "\n",
        "\n",
        "\n",
        "# 6. Generator for powers of 2\n",
        "def power_of_2(exp):\n",
        "    for i in range(exp + 1):\n",
        "        yield 2 ** i\n",
        "\n",
        "print(list(power_of_2(5)))\n",
        "\n",
        "# 7. Generator that reads a file line by line\n",
        "def read_file_lines(filename):\n",
        "    with open(filename, \"r\") as file:\n",
        "        for line in file:\n",
        "            yield line.strip()\n",
        "\n",
        "\n",
        "\n",
        "# 8. Sorting list of tuples based on second element\n",
        "tuples_list = [(1, 3), (4, 1), (2, 2)]\n",
        "tuples_list.sort(key=lambda x: x[1])\n",
        "print(tuples_list)\n",
        "\n",
        "# 9. Convert Celsius to Fahrenheit using map\n",
        "def celsius_to_fahrenheit(c):\n",
        "    return (c * 9/5) + 32\n",
        "\n",
        "temps = [0, 20, 30, 40]\n",
        "print(list(map(celsius_to_fahrenheit, temps)))\n",
        "\n",
        "# 10. Remove vowels using filter\n",
        "def remove_vowels(s):\n",
        "    return ''.join(filter(lambda x: x.lower() not in \"aeiou\", s))\n",
        "\n",
        "print(remove_vowels(\"hello world\"))"
      ]
    }
  ]
}